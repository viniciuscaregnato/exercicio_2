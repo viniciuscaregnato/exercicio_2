{
 "cells": [
  {
   "cell_type": "code",
   "execution_count": 8,
   "id": "ac65f873-89e0-40c2-80e7-be9dc46a5016",
   "metadata": {},
   "outputs": [
    {
     "data": {
      "text/plain": [
       "'exercicio 2\\nversao: 0.0.1\\nautor: vinicius'"
      ]
     },
     "execution_count": 8,
     "metadata": {},
     "output_type": "execute_result"
    }
   ],
   "source": [
    "\"\"\"exercicio 2\n",
    "versao: 0.0.1\n",
    "autor: vinicius\"\"\""
   ]
  },
  {
   "cell_type": "code",
   "execution_count": 14,
   "id": "6c583963-657a-4c4c-b792-18102f1b1955",
   "metadata": {},
   "outputs": [],
   "source": [
    "# Alocação de memoria\n",
    "\n",
    "numero_2 = 2\n",
    "numero_3 = 3"
   ]
  },
  {
   "cell_type": "code",
   "execution_count": null,
   "id": "6aae946c-f94c-4c9f-bc07-93ed706d57e7",
   "metadata": {},
   "outputs": [],
   "source": [
    "# Entrada de dados\n"
   ]
  },
  {
   "cell_type": "code",
   "execution_count": 16,
   "id": "013a8bc6-bb21-41f0-a9db-b95fe3f45267",
   "metadata": {},
   "outputs": [],
   "source": [
    "# Processamento de dados\n",
    "\n",
    "resultado = numero_2 + numero_3\n"
   ]
  },
  {
   "cell_type": "code",
   "execution_count": 18,
   "id": "e71b97f7-904e-46b4-88c1-c7c0cd49ab46",
   "metadata": {},
   "outputs": [
    {
     "name": "stdout",
     "output_type": "stream",
     "text": [
      "5\n"
     ]
    }
   ],
   "source": [
    "#Saída de dados\n",
    "\n",
    "print(resultado)"
   ]
  }
 ],
 "metadata": {
  "kernelspec": {
   "display_name": "Python [conda env:base] *",
   "language": "python",
   "name": "conda-base-py"
  },
  "language_info": {
   "codemirror_mode": {
    "name": "ipython",
    "version": 3
   },
   "file_extension": ".py",
   "mimetype": "text/x-python",
   "name": "python",
   "nbconvert_exporter": "python",
   "pygments_lexer": "ipython3",
   "version": "3.12.7"
  }
 },
 "nbformat": 4,
 "nbformat_minor": 5
}
